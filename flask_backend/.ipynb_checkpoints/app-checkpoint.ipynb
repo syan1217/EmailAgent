{
 "cells": [
  {
   "cell_type": "code",
   "execution_count": 1,
   "id": "dff42fd2-bc84-49bd-9dae-b088454b7cac",
   "metadata": {},
   "outputs": [],
   "source": [
    "# ============================\n",
    "# Install Required Libraries\n",
    "# ============================\n",
    "#!pip install flask flask-cors pyngrok imaplib2"
   ]
  },
  {
   "cell_type": "code",
   "execution_count": 2,
   "id": "76a230dc-3798-4935-9103-dc339bfae4c3",
   "metadata": {},
   "outputs": [],
   "source": [
    "# Import Libraries\n",
    "from flask import Flask, render_template, jsonify  # Flask backend and rendering\n",
    "from flask_cors import CORS  # Enable Cross-Origin Resource Sharing (CORS)\n",
    "import imaplib  # IMAP for accessing emails\n",
    "import email  # To process email messages\n",
    "from email.header import decode_header  # Handle encoded email subjects\n",
    "from pyngrok import ngrok  # To expose the Flask app to the internet\n",
    "from threading import Thread  # Run Flask app in the background"
   ]
  },
  {
   "cell_type": "code",
   "execution_count": 3,
   "id": "bb40ab8f-2137-471c-a0cd-bbe35ceca095",
   "metadata": {},
   "outputs": [],
   "source": [
    "# ============================\n",
    "# Set Up Flask App\n",
    "# ============================\n",
    "app = Flask(__name__)  # Initialize Flask app\n",
    "CORS(app)  # Allow cross-origin requests from frontend\n",
    "\n",
    "# Function to fetch email subjects using IMAP\n",
    "def fetch_email_subjects(imap_host, email_user, email_pass, folder=\"inbox\", num_emails=5):\n",
    "    \"\"\"Fetch latest email subjects from the specified folder.\"\"\"\n",
    "    # Connect to IMAP server\n",
    "    mail = imaplib.IMAP4_SSL(imap_host)\n",
    "    mail.login(email_user, email_pass)\n",
    "    mail.select(folder)  # Select the inbox or specified folder\n",
    "\n",
    "    # Fetch latest email IDs\n",
    "    status, messages = mail.search(None, \"ALL\")\n",
    "    email_ids = messages[0].split()[-num_emails:]  # Get last 'num_emails' messages\n",
    "\n",
    "    # Extract email subjects\n",
    "    subjects = []\n",
    "    for email_id in email_ids:\n",
    "        _, msg_data = mail.fetch(email_id, \"(RFC822)\")\n",
    "        raw_email = msg_data[0][1]\n",
    "        msg = email.message_from_bytes(raw_email)\n",
    "\n",
    "        # Decode the subject line\n",
    "        subject, encoding = decode_header(msg[\"Subject\"])[0]\n",
    "        if isinstance(subject, bytes):\n",
    "            subject = subject.decode(encoding if encoding else \"utf-8\")\n",
    "        subjects.append(subject)\n",
    "\n",
    "    mail.logout()  # Logout from the email server\n",
    "    return subjects  # Return the list of subjects\n",
    "\n",
    "# Route to render the frontend (index.html)\n",
    "@app.route('/')\n",
    "def index():\n",
    "    \"\"\"Serve the HTML frontend.\"\"\"\n",
    "    return render_template('index.html')\n",
    "\n",
    "# # Route to return email subjects as JSON\n",
    "# @app.route('/emails', methods=['GET'])\n",
    "# def get_emails():\n",
    "#     \"\"\"Fetch email subjects and return them as JSON.\"\"\"\n",
    "#     try:\n",
    "#         # Provide your email server credentials here\n",
    "#         imap_host = \"imap.gmail.com\"\n",
    "#         email_user = \"emailagentsunshine@gmail.com\"\n",
    "#         email_pass = \"emailagent123\"  # Use an App Password for Gmail\n",
    "\n",
    "#         subjects = fetch_email_subjects(imap_host, email_user, email_pass)\n",
    "#         return jsonify(subjects)  # Return the subjects as a JSON response\n",
    "#     except Exception as e:\n",
    "#         return jsonify({\"error\": str(e)})  # Handle any exceptions gracefully\n"
   ]
  },
  {
   "cell_type": "code",
   "execution_count": null,
   "id": "bdb0fd57-2f4a-4749-b25d-0e57d2d6dd8e",
   "metadata": {},
   "outputs": [
    {
     "name": "stdout",
     "output_type": "stream",
     "text": [
      " * ngrok tunnel available at: NgrokTunnel: \"https://a637-2603-8080-1df0-b070-e591-dd5f-5377-f006.ngrok-free.app\" -> \"http://localhost:5000\"\n",
      " * Serving Flask app '__main__'\n",
      " * Debug mode: off\n"
     ]
    },
    {
     "name": "stderr",
     "output_type": "stream",
     "text": [
      "\u001b[31m\u001b[1mWARNING: This is a development server. Do not use it in a production deployment. Use a production WSGI server instead.\u001b[0m\n",
      " * Running on http://127.0.0.1:5000\n",
      "\u001b[33mPress CTRL+C to quit\u001b[0m\n"
     ]
    }
   ],
   "source": [
    "# ============================\n",
    "# Expose Flask App with Ngrok\n",
    "# ============================\n",
    "# Add your authtoken here\n",
    "ngrok.set_auth_token(\"2mFM90sOrECUBwyLvqMoujuBeRV_3hPRuvZenQ3dAkmxnkhjr\")\n",
    "\n",
    "if __name__ == '__main__':\n",
    "    # Open an ngrok tunnel to the Flask app on port 5000\n",
    "    public_url = ngrok.connect(5000)\n",
    "    print(f\" * ngrok tunnel available at: {public_url}\")\n",
    "\n",
    "    # Run the Flask app on port 5000\n",
    "    app.run(port=5000, debug=False, threaded=False)"
   ]
  }
 ],
 "metadata": {
  "kernelspec": {
   "display_name": "Python 3 (ipykernel)",
   "language": "python",
   "name": "python3"
  },
  "language_info": {
   "codemirror_mode": {
    "name": "ipython",
    "version": 3
   },
   "file_extension": ".py",
   "mimetype": "text/x-python",
   "name": "python",
   "nbconvert_exporter": "python",
   "pygments_lexer": "ipython3",
   "version": "3.12.5"
  }
 },
 "nbformat": 4,
 "nbformat_minor": 5
}
